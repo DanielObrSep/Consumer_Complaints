{
 "cells": [
  {
   "cell_type": "code",
   "execution_count": 60,
   "id": "c3c3b4c7",
   "metadata": {},
   "outputs": [],
   "source": [
    "import pandas as pd \n"
   ]
  },
  {
   "cell_type": "code",
   "execution_count": 61,
   "id": "53c53d72",
   "metadata": {},
   "outputs": [
    {
     "data": {
      "text/html": [
       "<div>\n",
       "<style scoped>\n",
       "    .dataframe tbody tr th:only-of-type {\n",
       "        vertical-align: middle;\n",
       "    }\n",
       "\n",
       "    .dataframe tbody tr th {\n",
       "        vertical-align: top;\n",
       "    }\n",
       "\n",
       "    .dataframe thead th {\n",
       "        text-align: right;\n",
       "    }\n",
       "</style>\n",
       "<table border=\"1\" class=\"dataframe\">\n",
       "  <thead>\n",
       "    <tr style=\"text-align: right;\">\n",
       "      <th></th>\n",
       "      <th>Complaint ID</th>\n",
       "      <th>Submitted via</th>\n",
       "      <th>Date submitted</th>\n",
       "      <th>Date received</th>\n",
       "      <th>State</th>\n",
       "      <th>Product</th>\n",
       "      <th>Sub-product</th>\n",
       "      <th>Issue</th>\n",
       "      <th>Sub-issue</th>\n",
       "      <th>Company public response</th>\n",
       "      <th>Company response to consumer</th>\n",
       "      <th>Timely response?</th>\n",
       "    </tr>\n",
       "  </thead>\n",
       "  <tbody>\n",
       "    <tr>\n",
       "      <th>0</th>\n",
       "      <td>4848023</td>\n",
       "      <td>Referral</td>\n",
       "      <td>2021-10-24</td>\n",
       "      <td>2021-10-27</td>\n",
       "      <td>NY</td>\n",
       "      <td>Mortgage</td>\n",
       "      <td>Conventional home mortgage</td>\n",
       "      <td>Applying for a mortgage or refinancing an exis...</td>\n",
       "      <td>NaN</td>\n",
       "      <td>Company has responded to the consumer and the ...</td>\n",
       "      <td>Closed with explanation</td>\n",
       "      <td>Yes</td>\n",
       "    </tr>\n",
       "    <tr>\n",
       "      <th>1</th>\n",
       "      <td>3621464</td>\n",
       "      <td>Web</td>\n",
       "      <td>2020-04-24</td>\n",
       "      <td>2020-04-24</td>\n",
       "      <td>FL</td>\n",
       "      <td>Money transfer, virtual currency, or money ser...</td>\n",
       "      <td>Refund anticipation check</td>\n",
       "      <td>Lost or stolen check</td>\n",
       "      <td>NaN</td>\n",
       "      <td>Company has responded to the consumer and the ...</td>\n",
       "      <td>Closed with monetary relief</td>\n",
       "      <td>Yes</td>\n",
       "    </tr>\n",
       "    <tr>\n",
       "      <th>2</th>\n",
       "      <td>5818349</td>\n",
       "      <td>Web</td>\n",
       "      <td>2022-07-27</td>\n",
       "      <td>2022-07-27</td>\n",
       "      <td>CA</td>\n",
       "      <td>Credit reporting, credit repair services, or o...</td>\n",
       "      <td>Credit reporting</td>\n",
       "      <td>Incorrect information on your report</td>\n",
       "      <td>Account information incorrect</td>\n",
       "      <td>Company has responded to the consumer and the ...</td>\n",
       "      <td>Closed with explanation</td>\n",
       "      <td>Yes</td>\n",
       "    </tr>\n",
       "    <tr>\n",
       "      <th>3</th>\n",
       "      <td>7233015</td>\n",
       "      <td>Referral</td>\n",
       "      <td>2023-07-10</td>\n",
       "      <td>2023-07-11</td>\n",
       "      <td>CA</td>\n",
       "      <td>Credit card or prepaid card</td>\n",
       "      <td>General-purpose prepaid card</td>\n",
       "      <td>Problem getting a card or closing an account</td>\n",
       "      <td>Trouble getting, activating, or registering a ...</td>\n",
       "      <td>NaN</td>\n",
       "      <td>In progress</td>\n",
       "      <td>NaN</td>\n",
       "    </tr>\n",
       "    <tr>\n",
       "      <th>4</th>\n",
       "      <td>5820224</td>\n",
       "      <td>Referral</td>\n",
       "      <td>2022-07-27</td>\n",
       "      <td>2022-07-28</td>\n",
       "      <td>VA</td>\n",
       "      <td>Credit card or prepaid card</td>\n",
       "      <td>General-purpose credit card or charge card</td>\n",
       "      <td>Closing your account</td>\n",
       "      <td>Company closed your account</td>\n",
       "      <td>Company has responded to the consumer and the ...</td>\n",
       "      <td>Closed with explanation</td>\n",
       "      <td>Yes</td>\n",
       "    </tr>\n",
       "  </tbody>\n",
       "</table>\n",
       "</div>"
      ],
      "text/plain": [
       "   Complaint ID Submitted via Date submitted Date received State  \\\n",
       "0       4848023      Referral     2021-10-24    2021-10-27    NY   \n",
       "1       3621464           Web     2020-04-24    2020-04-24    FL   \n",
       "2       5818349           Web     2022-07-27    2022-07-27    CA   \n",
       "3       7233015      Referral     2023-07-10    2023-07-11    CA   \n",
       "4       5820224      Referral     2022-07-27    2022-07-28    VA   \n",
       "\n",
       "                                             Product  \\\n",
       "0                                           Mortgage   \n",
       "1  Money transfer, virtual currency, or money ser...   \n",
       "2  Credit reporting, credit repair services, or o...   \n",
       "3                        Credit card or prepaid card   \n",
       "4                        Credit card or prepaid card   \n",
       "\n",
       "                                  Sub-product  \\\n",
       "0                  Conventional home mortgage   \n",
       "1                   Refund anticipation check   \n",
       "2                            Credit reporting   \n",
       "3                General-purpose prepaid card   \n",
       "4  General-purpose credit card or charge card   \n",
       "\n",
       "                                               Issue  \\\n",
       "0  Applying for a mortgage or refinancing an exis...   \n",
       "1                               Lost or stolen check   \n",
       "2               Incorrect information on your report   \n",
       "3       Problem getting a card or closing an account   \n",
       "4                               Closing your account   \n",
       "\n",
       "                                           Sub-issue  \\\n",
       "0                                                NaN   \n",
       "1                                                NaN   \n",
       "2                      Account information incorrect   \n",
       "3  Trouble getting, activating, or registering a ...   \n",
       "4                        Company closed your account   \n",
       "\n",
       "                             Company public response  \\\n",
       "0  Company has responded to the consumer and the ...   \n",
       "1  Company has responded to the consumer and the ...   \n",
       "2  Company has responded to the consumer and the ...   \n",
       "3                                                NaN   \n",
       "4  Company has responded to the consumer and the ...   \n",
       "\n",
       "  Company response to consumer Timely response?  \n",
       "0      Closed with explanation              Yes  \n",
       "1  Closed with monetary relief              Yes  \n",
       "2      Closed with explanation              Yes  \n",
       "3                  In progress              NaN  \n",
       "4      Closed with explanation              Yes  "
      ]
     },
     "execution_count": 61,
     "metadata": {},
     "output_type": "execute_result"
    }
   ],
   "source": [
    "df = pd.read_excel('../data_raw/Consumer_Complaints.xlsx', sheet_name='Data', engine='openpyxl')\n",
    "df.head()"
   ]
  },
  {
   "cell_type": "code",
   "execution_count": 62,
   "id": "251735a4",
   "metadata": {},
   "outputs": [
    {
     "name": "stdout",
     "output_type": "stream",
     "text": [
      "Dimensiones: (62516, 12)\n",
      "\n",
      "Primeras columnas:\n",
      "['Complaint ID', 'Submitted via', 'Date submitted', 'Date received', 'State', 'Product', 'Sub-product', 'Issue', 'Sub-issue', 'Company public response', 'Company response to consumer', 'Timely response?']\n"
     ]
    }
   ],
   "source": [
    "print(\"Dimensiones:\", df.shape)\n",
    "print(\"\\nPrimeras columnas:\")\n",
    "print(df.columns.tolist())"
   ]
  },
  {
   "cell_type": "code",
   "execution_count": 63,
   "id": "b68f1abd",
   "metadata": {},
   "outputs": [
    {
     "name": "stdout",
     "output_type": "stream",
     "text": [
      "\n",
      "Tipos de datos:\n",
      "Complaint ID                             int64\n",
      "Submitted via                           object\n",
      "Date submitted                  datetime64[ns]\n",
      "Date received                   datetime64[ns]\n",
      "State                                   object\n",
      "Product                                 object\n",
      "Sub-product                             object\n",
      "Issue                                   object\n",
      "Sub-issue                               object\n",
      "Company public response                 object\n",
      "Company response to consumer            object\n",
      "Timely response?                        object\n",
      "dtype: object\n"
     ]
    }
   ],
   "source": [
    "print(\"\\nTipos de datos:\")\n",
    "print(df.dtypes)"
   ]
  },
  {
   "cell_type": "code",
   "execution_count": 64,
   "id": "0db69135",
   "metadata": {},
   "outputs": [],
   "source": [
    "df.columns = (\n",
    "    df.columns\n",
    "    .str.strip()\n",
    "    .str.lower()\n",
    "    .str.replace(' ', '_')\n",
    "    .str.replace('-', '_')\n",
    "    .str.replace('?', '', regex=False)\n",
    ")"
   ]
  },
  {
   "cell_type": "code",
   "execution_count": 65,
   "id": "15076df7",
   "metadata": {},
   "outputs": [],
   "source": [
    "df['date_submitted'] = pd.to_datetime(df['date_submitted'], errors='coerce')\n",
    "df['date_received'] = pd.to_datetime(df['date_received'], errors='coerce')\n",
    "df['timely_response'] = df['timely_response'].astype(str).str.strip().str.lower()\n",
    "df['timely_response'] = df['timely_response'].map({'yes': True, 'no': False})\n"
   ]
  },
  {
   "cell_type": "code",
   "execution_count": 66,
   "id": "ce4bf1a8",
   "metadata": {},
   "outputs": [
    {
     "name": "stdout",
     "output_type": "stream",
     "text": [
      "\n",
      "¿ID único?: True\n"
     ]
    }
   ],
   "source": [
    "print(\"\\n¿ID único?:\", df['complaint_id'].is_unique)"
   ]
  },
  {
   "cell_type": "code",
   "execution_count": 67,
   "id": "6f92b99b",
   "metadata": {},
   "outputs": [],
   "source": [
    "columnas_texto = [\n",
    "    'product', 'sub_product', 'issue', 'sub_issue',\n",
    "    'submitted_via', 'company_response_to_consumer'\n",
    "]\n",
    "\n",
    "for col in columnas_texto:\n",
    "    df[col] = df[col].astype(str).str.strip().str.lower()"
   ]
  },
  {
   "cell_type": "code",
   "execution_count": 68,
   "id": "779a28b6",
   "metadata": {},
   "outputs": [
    {
     "name": "stdout",
     "output_type": "stream",
     "text": [
      "\n",
      "Valores nulos por columna:\n",
      "complaint_id                       0\n",
      "submitted_via                      0\n",
      "date_submitted                     0\n",
      "date_received                      0\n",
      "state                              0\n",
      "product                            0\n",
      "sub_product                        0\n",
      "issue                              0\n",
      "sub_issue                          0\n",
      "company_public_response         2175\n",
      "company_response_to_consumer       0\n",
      "timely_response                 1494\n",
      "dtype: int64\n",
      "\n",
      "Duplicados exactos: 0\n"
     ]
    }
   ],
   "source": [
    "print(\"\\nValores nulos por columna:\")\n",
    "print(df.isnull().sum())\n",
    "\n",
    "print(\"\\nDuplicados exactos:\", df.duplicated().sum())"
   ]
  },
  {
   "cell_type": "code",
   "execution_count": 69,
   "id": "c0e40178",
   "metadata": {},
   "outputs": [],
   "source": [
    "df = df.drop_duplicates()"
   ]
  },
  {
   "cell_type": "code",
   "execution_count": 70,
   "id": "578d05f3",
   "metadata": {},
   "outputs": [
    {
     "name": "stdout",
     "output_type": "stream",
     "text": [
      "\n",
      "✔ Exportación lista: consumer_complaints.csv\n"
     ]
    }
   ],
   "source": [
    "df.to_csv('../dbt_project/seeds/consumer_complaints.csv', index=False)\n",
    "print(\"\\n✔ Exportación lista: consumer_complaints.csv\")"
   ]
  },
  {
   "cell_type": "code",
   "execution_count": 71,
   "id": "eaed0e33",
   "metadata": {},
   "outputs": [
    {
     "data": {
      "text/plain": [
       "company_response_to_consumer\n",
       "closed with explanation            41044\n",
       "closed with monetary relief        14697\n",
       "closed with non-monetary relief     5273\n",
       "in progress                         1494\n",
       "closed                                 8\n",
       "Name: count, dtype: int64"
      ]
     },
     "execution_count": 71,
     "metadata": {},
     "output_type": "execute_result"
    }
   ],
   "source": [
    "df['company_response_to_consumer'].value_counts()"
   ]
  },
  {
   "cell_type": "code",
   "execution_count": 72,
   "id": "f58e0e59",
   "metadata": {},
   "outputs": [
    {
     "data": {
      "text/plain": [
       "timely_response\n",
       "True     58619\n",
       "False     2403\n",
       "NaN       1494\n",
       "Name: count, dtype: int64"
      ]
     },
     "execution_count": 72,
     "metadata": {},
     "output_type": "execute_result"
    }
   ],
   "source": [
    "df['timely_response'].value_counts(dropna=False)\n"
   ]
  },
  {
   "cell_type": "code",
   "execution_count": 73,
   "id": "fa057bf2",
   "metadata": {},
   "outputs": [
    {
     "data": {
      "text/html": [
       "<div>\n",
       "<style scoped>\n",
       "    .dataframe tbody tr th:only-of-type {\n",
       "        vertical-align: middle;\n",
       "    }\n",
       "\n",
       "    .dataframe tbody tr th {\n",
       "        vertical-align: top;\n",
       "    }\n",
       "\n",
       "    .dataframe thead th {\n",
       "        text-align: right;\n",
       "    }\n",
       "</style>\n",
       "<table border=\"1\" class=\"dataframe\">\n",
       "  <thead>\n",
       "    <tr style=\"text-align: right;\">\n",
       "      <th></th>\n",
       "      <th>complaint_id</th>\n",
       "      <th>submitted_via</th>\n",
       "      <th>date_submitted</th>\n",
       "      <th>date_received</th>\n",
       "      <th>state</th>\n",
       "      <th>product</th>\n",
       "      <th>sub_product</th>\n",
       "      <th>issue</th>\n",
       "      <th>sub_issue</th>\n",
       "      <th>company_public_response</th>\n",
       "      <th>company_response_to_consumer</th>\n",
       "      <th>timely_response</th>\n",
       "    </tr>\n",
       "  </thead>\n",
       "  <tbody>\n",
       "    <tr>\n",
       "      <th>0</th>\n",
       "      <td>4848023</td>\n",
       "      <td>referral</td>\n",
       "      <td>2021-10-24</td>\n",
       "      <td>2021-10-27</td>\n",
       "      <td>NY</td>\n",
       "      <td>mortgage</td>\n",
       "      <td>conventional home mortgage</td>\n",
       "      <td>applying for a mortgage or refinancing an exis...</td>\n",
       "      <td>nan</td>\n",
       "      <td>Company has responded to the consumer and the ...</td>\n",
       "      <td>closed with explanation</td>\n",
       "      <td>True</td>\n",
       "    </tr>\n",
       "    <tr>\n",
       "      <th>1</th>\n",
       "      <td>3621464</td>\n",
       "      <td>web</td>\n",
       "      <td>2020-04-24</td>\n",
       "      <td>2020-04-24</td>\n",
       "      <td>FL</td>\n",
       "      <td>money transfer, virtual currency, or money ser...</td>\n",
       "      <td>refund anticipation check</td>\n",
       "      <td>lost or stolen check</td>\n",
       "      <td>nan</td>\n",
       "      <td>Company has responded to the consumer and the ...</td>\n",
       "      <td>closed with monetary relief</td>\n",
       "      <td>True</td>\n",
       "    </tr>\n",
       "    <tr>\n",
       "      <th>2</th>\n",
       "      <td>5818349</td>\n",
       "      <td>web</td>\n",
       "      <td>2022-07-27</td>\n",
       "      <td>2022-07-27</td>\n",
       "      <td>CA</td>\n",
       "      <td>credit reporting, credit repair services, or o...</td>\n",
       "      <td>credit reporting</td>\n",
       "      <td>incorrect information on your report</td>\n",
       "      <td>account information incorrect</td>\n",
       "      <td>Company has responded to the consumer and the ...</td>\n",
       "      <td>closed with explanation</td>\n",
       "      <td>True</td>\n",
       "    </tr>\n",
       "    <tr>\n",
       "      <th>3</th>\n",
       "      <td>7233015</td>\n",
       "      <td>referral</td>\n",
       "      <td>2023-07-10</td>\n",
       "      <td>2023-07-11</td>\n",
       "      <td>CA</td>\n",
       "      <td>credit card or prepaid card</td>\n",
       "      <td>general-purpose prepaid card</td>\n",
       "      <td>problem getting a card or closing an account</td>\n",
       "      <td>trouble getting, activating, or registering a ...</td>\n",
       "      <td>NaN</td>\n",
       "      <td>in progress</td>\n",
       "      <td>NaN</td>\n",
       "    </tr>\n",
       "    <tr>\n",
       "      <th>4</th>\n",
       "      <td>5820224</td>\n",
       "      <td>referral</td>\n",
       "      <td>2022-07-27</td>\n",
       "      <td>2022-07-28</td>\n",
       "      <td>VA</td>\n",
       "      <td>credit card or prepaid card</td>\n",
       "      <td>general-purpose credit card or charge card</td>\n",
       "      <td>closing your account</td>\n",
       "      <td>company closed your account</td>\n",
       "      <td>Company has responded to the consumer and the ...</td>\n",
       "      <td>closed with explanation</td>\n",
       "      <td>True</td>\n",
       "    </tr>\n",
       "  </tbody>\n",
       "</table>\n",
       "</div>"
      ],
      "text/plain": [
       "   complaint_id submitted_via date_submitted date_received state  \\\n",
       "0       4848023      referral     2021-10-24    2021-10-27    NY   \n",
       "1       3621464           web     2020-04-24    2020-04-24    FL   \n",
       "2       5818349           web     2022-07-27    2022-07-27    CA   \n",
       "3       7233015      referral     2023-07-10    2023-07-11    CA   \n",
       "4       5820224      referral     2022-07-27    2022-07-28    VA   \n",
       "\n",
       "                                             product  \\\n",
       "0                                           mortgage   \n",
       "1  money transfer, virtual currency, or money ser...   \n",
       "2  credit reporting, credit repair services, or o...   \n",
       "3                        credit card or prepaid card   \n",
       "4                        credit card or prepaid card   \n",
       "\n",
       "                                  sub_product  \\\n",
       "0                  conventional home mortgage   \n",
       "1                   refund anticipation check   \n",
       "2                            credit reporting   \n",
       "3                general-purpose prepaid card   \n",
       "4  general-purpose credit card or charge card   \n",
       "\n",
       "                                               issue  \\\n",
       "0  applying for a mortgage or refinancing an exis...   \n",
       "1                               lost or stolen check   \n",
       "2               incorrect information on your report   \n",
       "3       problem getting a card or closing an account   \n",
       "4                               closing your account   \n",
       "\n",
       "                                           sub_issue  \\\n",
       "0                                                nan   \n",
       "1                                                nan   \n",
       "2                      account information incorrect   \n",
       "3  trouble getting, activating, or registering a ...   \n",
       "4                        company closed your account   \n",
       "\n",
       "                             company_public_response  \\\n",
       "0  Company has responded to the consumer and the ...   \n",
       "1  Company has responded to the consumer and the ...   \n",
       "2  Company has responded to the consumer and the ...   \n",
       "3                                                NaN   \n",
       "4  Company has responded to the consumer and the ...   \n",
       "\n",
       "  company_response_to_consumer timely_response  \n",
       "0      closed with explanation            True  \n",
       "1  closed with monetary relief            True  \n",
       "2      closed with explanation            True  \n",
       "3                  in progress             NaN  \n",
       "4      closed with explanation            True  "
      ]
     },
     "execution_count": 73,
     "metadata": {},
     "output_type": "execute_result"
    }
   ],
   "source": [
    "df.head()"
   ]
  },
  {
   "cell_type": "code",
   "execution_count": null,
   "id": "95571585",
   "metadata": {},
   "outputs": [],
   "source": []
  }
 ],
 "metadata": {
  "kernelspec": {
   "display_name": "venv",
   "language": "python",
   "name": "python3"
  },
  "language_info": {
   "codemirror_mode": {
    "name": "ipython",
    "version": 3
   },
   "file_extension": ".py",
   "mimetype": "text/x-python",
   "name": "python",
   "nbconvert_exporter": "python",
   "pygments_lexer": "ipython3",
   "version": "3.13.2"
  }
 },
 "nbformat": 4,
 "nbformat_minor": 5
}
